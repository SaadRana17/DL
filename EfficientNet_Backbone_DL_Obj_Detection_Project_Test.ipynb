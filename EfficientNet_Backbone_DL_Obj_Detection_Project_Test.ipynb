{
  "nbformat": 4,
  "nbformat_minor": 0,
  "metadata": {
    "colab": {
      "provenance": [],
      "authorship_tag": "ABX9TyOCO8ZHgOVC2H59WIvY0Ady",
      "include_colab_link": true
    },
    "kernelspec": {
      "name": "python3",
      "display_name": "Python 3"
    },
    "language_info": {
      "name": "python"
    }
  },
  "cells": [
    {
      "cell_type": "markdown",
      "metadata": {
        "id": "view-in-github",
        "colab_type": "text"
      },
      "source": [
        "<a href=\"https://colab.research.google.com/github/SaadRana17/DL/blob/main/EfficientNet_Backbone_DL_Obj_Detection_Project_Test.ipynb\" target=\"_parent\"><img src=\"https://colab.research.google.com/assets/colab-badge.svg\" alt=\"Open In Colab\"/></a>"
      ]
    },
    {
      "cell_type": "code",
      "execution_count": null,
      "metadata": {
        "id": "sZCJvmy3Nq2z"
      },
      "outputs": [],
      "source": [
        "import tensorflow as tf\n",
        "from tensorflow.keras.models import load_model\n",
        "from tensorflow.keras.preprocessing import image\n",
        "from tensorflow.keras.applications.mobilenet_v2 import preprocess_input, decode_predictions\n",
        "import numpy as np\n",
        "import os\n",
        "import cv2\n",
        "import matplotlib.pyplot as plt\n",
        "\n",
        "# Load the saved model\n",
        "model_path = 'EfficientNet_Backbone_object_detection_model.h5'\n",
        "model = load_model(model_path)\n",
        "\n",
        "# Path to the test images\n",
        "test_images_path = '/content/gdrive/MyDrive/DL/My Game Pics.v5i.voc/test'\n",
        "\n",
        "# Randomly select 10 images\n",
        "selected_images = np.random.choice(os.listdir(test_images_path), size=10, replace=False)\n",
        "\n",
        "# Iterate over selected images\n",
        "for image_name in selected_images:\n",
        "    try:\n",
        "        # Load and preprocess the image\n",
        "        img_path = os.path.join(test_images_path, image_name)\n",
        "        img = image.load_img(img_path, target_size=(224, 224))\n",
        "        img_array = image.img_to_array(img)\n",
        "        img_array = np.expand_dims(img_array, axis=0)\n",
        "        img_array = preprocess_input(img_array)\n",
        "\n",
        "        # Make predictions\n",
        "        predictions = model.predict(img_array)\n",
        "\n",
        "        # Extract classification and bounding box predictions\n",
        "        classification_pred, bbox_pred = predictions\n",
        "\n",
        "        # Post-process classification predictions\n",
        "        classification_pred = np.argmax(classification_pred, axis=-1)\n",
        "\n",
        "        # Post-process bounding box predictions\n",
        "        # You might need to adjust the post-processing based on your specific implementation\n",
        "        # This is a simple example assuming 5 bounding boxes\n",
        "        bbox_pred = np.reshape(bbox_pred, (5, 4))\n",
        "\n",
        "        # Visualize the results\n",
        "        img = cv2.imread(img_path)\n",
        "        img = cv2.cvtColor(img, cv2.COLOR_BGR2RGB)\n",
        "\n",
        "        # Draw bounding boxes on the image\n",
        "        for bbox in bbox_pred:\n",
        "            xmin, ymin, xmax, ymax = bbox\n",
        "            xmin, ymin, xmax, ymax = int(xmin * img.shape[1]), int(ymin * img.shape[0]), int(xmax * img.shape[1]), int(ymax * img.shape[0])\n",
        "            cv2.rectangle(img, (xmin, ymin), (xmax, ymax), (0, 255, 0), 2)\n",
        "\n",
        "        # Display the image with predictions\n",
        "        plt.imshow(img)\n",
        "        plt.title(f\"Image: {image_name}\\nClass: {classification_pred}\")\n",
        "        plt.axis('off')\n",
        "        plt.show()\n",
        "\n",
        "    except Exception as e:\n",
        "        print(f\"Error processing image {image_name}: {str(e)}\")\n"
      ]
    }
  ]
}